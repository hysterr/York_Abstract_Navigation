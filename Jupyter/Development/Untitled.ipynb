{
 "cells": [
  {
   "cell_type": "code",
   "execution_count": 3,
   "id": "b03a491b",
   "metadata": {},
   "outputs": [
    {
     "data": {
      "text/html": [
       "<style>.container{ width:100% !important; }</style>"
      ],
      "text/plain": [
       "<IPython.core.display.HTML object>"
      ]
     },
     "metadata": {},
     "output_type": "display_data"
    }
   ],
   "source": [
    "from IPython.core.display import display, HTML\n",
    "display(HTML(\"<style>.container{ width:100% !important; }</style>\"))\n",
    "\n",
    "import numpy as np\n",
    "from random import random, uniform\n",
    "from numba import float32, int32\n",
    "from numba.experimental import jitclass"
   ]
  },
  {
   "cell_type": "code",
   "execution_count": 4,
   "id": "26a6bf3f",
   "metadata": {},
   "outputs": [],
   "source": [
    "bat_algorithm_spec = [ \n",
    "    ('x_range', int32[:]),\n",
    "    ('global_minima', float32),\n",
    "    ('Population_Size', int32),\n",
    "    ('Population', int32[:,:]),\n",
    "    ('Fitness', float32[:,:]),\n",
    "    ('Loudness', float32[:,:]),\n",
    "    ('Pulse_Rate', float32[:,:]),\n",
    "    ('Frequency', float32[:,:]),\n",
    "    ('Velocity', float32[:,:]),\n",
    "    ('Max_Movements', int32),\n",
    "    ('Act_Movements', int32),\n",
    "    ('Frequency_Range', float32[:]),\n",
    "    ('Loudness_Decay', float32),\n",
    "    ('Loudness_Limit', float32),\n",
    "    ('Pulse_Rate_Decay', float32),\n",
    "    ('Gamma', float32),\n",
    "    ('Fitness_Stop', float32),\n",
    "    ('Best_Position', float32[:,:]),\n",
    "    ('Best_Fitness', float32),\n",
    "    ('Best_Bat', int32),\n",
    "    ('Historic', float32[:,:,:])\n",
    "]\n",
    "\n",
    "@jitclass(bat_algorithm_spec)\n",
    "class Bat_Algorithm(object):\n",
    "    def __init__(self, Population, max_actions):\n",
    "        # Parameters\n",
    "        self.Population_Size = 100\n",
    "        self.Number_Movements = 100\n",
    "\n",
    "        # Echolocation\n",
    "        self.Loudness_Decay = 0.5\n",
    "        self.Loudness_Limit = 0.01\n",
    "        self.Pulse_Rate_Limit = 0.5\n",
    "        self.Pulse_Rate_Gamma = 0.5\n",
    "        \n",
    "        # Fitness \n",
    "        self.Fitness_Stop = 1e-3\n",
    "\n",
    "        \n",
    "        \n",
    "        "
   ]
  },
  {
   "cell_type": "code",
   "execution_count": null,
   "id": "3d526128",
   "metadata": {},
   "outputs": [],
   "source": []
  }
 ],
 "metadata": {
  "kernelspec": {
   "display_name": "Python 3 (ipykernel)",
   "language": "python",
   "name": "python3"
  },
  "language_info": {
   "codemirror_mode": {
    "name": "ipython",
    "version": 3
   },
   "file_extension": ".py",
   "mimetype": "text/x-python",
   "name": "python",
   "nbconvert_exporter": "python",
   "pygments_lexer": "ipython3",
   "version": "3.8.8"
  }
 },
 "nbformat": 4,
 "nbformat_minor": 5
}
